{
 "cells": [
  {
   "attachments": {},
   "cell_type": "markdown",
   "metadata": {},
   "source": [
    "# Prepare Data"
   ]
  },
  {
   "cell_type": "code",
   "execution_count": 22,
   "metadata": {},
   "outputs": [
    {
     "name": "stdout",
     "output_type": "stream",
     "text": [
      "Process datasets/manufactory_date/original/ to train/test data with name A\n"
     ]
    },
    {
     "name": "stderr",
     "output_type": "stream",
     "text": [
      "100%|██████████| 5895/5895 [00:14<00:00, 419.51it/s]\n",
      "100%|██████████| 1966/1966 [00:04<00:00, 421.08it/s]\n"
     ]
    },
    {
     "name": "stdout",
     "output_type": "stream",
     "text": [
      "Process datasets/manufactory_date/generated_images/ to train/test data with name B\n"
     ]
    },
    {
     "name": "stderr",
     "output_type": "stream",
     "text": [
      "100%|██████████| 39728/39728 [01:40<00:00, 394.09it/s]\n",
      "100%|██████████| 13243/13243 [00:33<00:00, 397.19it/s]\n"
     ]
    }
   ],
   "source": [
    "from glob import glob\n",
    "import os\n",
    "import shutil\n",
    "import random\n",
    "from tqdm import tqdm\n",
    "output = \"datasets/manufactory_date/\"\n",
    "\n",
    "\n",
    "def createDataset(path, output, name):\n",
    "    print(f\"Process {path} to train/test data with name {name}\")\n",
    "    imagepaths = glob(path + \"*.jpg\")\n",
    "    size = len(imagepaths)\n",
    "    threshold = int(size*0.75)\n",
    "    train = random.sample(imagepaths, threshold)\n",
    "    test = set(imagepaths) - set(train)\n",
    "\n",
    "    if not os.path.exists(output + \"train\" + name):\n",
    "        os.mkdir(output + \"train\" + name)\n",
    "\n",
    "    if not os.path.exists(output + \"test\" + name):\n",
    "        os.mkdir(output + \"test\" + name)\n",
    "\n",
    "    for image in tqdm(train):\n",
    "        shutil.copy(image, output + \"train\" + name)\n",
    "    \n",
    "    for image in tqdm(test):\n",
    "        shutil.copy(image, output + \"test\" + name)\n",
    "\n",
    "\n",
    "createDataset(output + \"original/\", output, \"A\")\n",
    "createDataset(output + \"generated_images/\", output, \"B\")"
   ]
  },
  {
   "attachments": {},
   "cell_type": "markdown",
   "metadata": {},
   "source": [
    "# Train"
   ]
  },
  {
   "cell_type": "code",
   "execution_count": 23,
   "metadata": {},
   "outputs": [],
   "source": [
    "!python train.py --dataroot ./datasets/manufactory_date --name manufactory_date --model cycle_gan"
   ]
  }
 ],
 "metadata": {
  "kernelspec": {
   "display_name": "pytorch",
   "language": "python",
   "name": "python3"
  },
  "language_info": {
   "codemirror_mode": {
    "name": "ipython",
    "version": 3
   },
   "file_extension": ".py",
   "mimetype": "text/x-python",
   "name": "python",
   "nbconvert_exporter": "python",
   "pygments_lexer": "ipython3",
   "version": "3.10.9"
  },
  "orig_nbformat": 4,
  "vscode": {
   "interpreter": {
    "hash": "88d0189c8ed86285ae2ad9b4ebe8aa3a4a26c8dbbb66fc54250d7aa09038d4c4"
   }
  }
 },
 "nbformat": 4,
 "nbformat_minor": 2
}
